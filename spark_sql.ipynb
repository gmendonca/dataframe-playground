{
 "cells": [
  {
   "cell_type": "code",
   "execution_count": 43,
   "id": "37417519-6138-4e1c-8a4a-f3c1e14ed262",
   "metadata": {},
   "outputs": [],
   "source": [
    "from pyspark.sql import SparkSession\n",
    "\n",
    "spark = SparkSession \\\n",
    "    .builder \\\n",
    "    .appName(\"Python Spark SQL basic example\") \\\n",
    "    .getOrCreate()\n",
    "\n",
    "spark.sparkContext.setLogLevel('ERROR')"
   ]
  },
  {
   "cell_type": "code",
   "execution_count": 44,
   "id": "70fc7c22-60b4-48cb-ad1f-a3b15a440191",
   "metadata": {},
   "outputs": [],
   "source": [
    "df = spark.read.csv('data-2.csv',header=True,escape=\"\\\"\")"
   ]
  },
  {
   "cell_type": "code",
   "execution_count": 45,
   "id": "caa3abcd-9d3a-4b42-a77b-d4184c99b943",
   "metadata": {},
   "outputs": [
    {
     "name": "stdout",
     "output_type": "stream",
     "text": [
      "+---------+---------+--------------------+--------+--------------+---------+----------+--------------+\n",
      "|InvoiceNo|StockCode|         Description|Quantity|   InvoiceDate|UnitPrice|CustomerID|       Country|\n",
      "+---------+---------+--------------------+--------+--------------+---------+----------+--------------+\n",
      "|   536365|   85123A|WHITE HANGING HEA...|       6|12/1/2010 8:26|     2.55|     17850|United Kingdom|\n",
      "|   536365|    71053| WHITE METAL LANTERN|       6|12/1/2010 8:26|     3.39|     17850|United Kingdom|\n",
      "|   536365|   84406B|CREAM CUPID HEART...|       8|12/1/2010 8:26|     2.75|     17850|United Kingdom|\n",
      "|   536365|   84029G|KNITTED UNION FLA...|       6|12/1/2010 8:26|     3.39|     17850|United Kingdom|\n",
      "|   536365|   84029E|RED WOOLLY HOTTIE...|       6|12/1/2010 8:26|     3.39|     17850|United Kingdom|\n",
      "|   536365|    22752|SET 7 BABUSHKA NE...|       2|12/1/2010 8:26|     7.65|     17850|United Kingdom|\n",
      "|   536365|    21730|GLASS STAR FROSTE...|       6|12/1/2010 8:26|     4.25|     17850|United Kingdom|\n",
      "|   536366|    22633|HAND WARMER UNION...|       6|12/1/2010 8:28|     1.85|     17850|United Kingdom|\n",
      "|   536366|    22632|HAND WARMER RED P...|       6|12/1/2010 8:28|     1.85|     17850|United Kingdom|\n",
      "|   536367|    84879|ASSORTED COLOUR B...|      32|12/1/2010 8:34|     1.69|     13047|United Kingdom|\n",
      "|   536367|    22745|POPPY'S PLAYHOUSE...|       6|12/1/2010 8:34|      2.1|     13047|United Kingdom|\n",
      "|   536367|    22748|POPPY'S PLAYHOUSE...|       6|12/1/2010 8:34|      2.1|     13047|United Kingdom|\n",
      "|   536367|    22749|FELTCRAFT PRINCES...|       8|12/1/2010 8:34|     3.75|     13047|United Kingdom|\n",
      "|   536367|    22310|IVORY KNITTED MUG...|       6|12/1/2010 8:34|     1.65|     13047|United Kingdom|\n",
      "|   536367|    84969|BOX OF 6 ASSORTED...|       6|12/1/2010 8:34|     4.25|     13047|United Kingdom|\n",
      "|   536367|    22623|BOX OF VINTAGE JI...|       3|12/1/2010 8:34|     4.95|     13047|United Kingdom|\n",
      "|   536367|    22622|BOX OF VINTAGE AL...|       2|12/1/2010 8:34|     9.95|     13047|United Kingdom|\n",
      "|   536367|    21754|HOME BUILDING BLO...|       3|12/1/2010 8:34|     5.95|     13047|United Kingdom|\n",
      "|   536367|    21755|LOVE BUILDING BLO...|       3|12/1/2010 8:34|     5.95|     13047|United Kingdom|\n",
      "|   536367|    21777|RECIPE BOX WITH M...|       4|12/1/2010 8:34|     7.95|     13047|United Kingdom|\n",
      "+---------+---------+--------------------+--------+--------------+---------+----------+--------------+\n",
      "only showing top 20 rows\n",
      "\n"
     ]
    }
   ],
   "source": [
    "df.show()"
   ]
  },
  {
   "cell_type": "code",
   "execution_count": 46,
   "id": "0f3a2205-835b-4523-abe7-f0b76ec3a1b0",
   "metadata": {},
   "outputs": [
    {
     "name": "stdout",
     "output_type": "stream",
     "text": [
      "+---------+---------+--------------------+--------+---------------+---------+----------+--------------+\n",
      "|InvoiceNo|StockCode|         Description|Quantity|    InvoiceDate|UnitPrice|CustomerID|       Country|\n",
      "+---------+---------+--------------------+--------+---------------+---------+----------+--------------+\n",
      "|   536367|    22622|BOX OF VINTAGE AL...|       2| 12/1/2010 8:34|     9.95|     13047|United Kingdom|\n",
      "|   536370|     POST|             POSTAGE|       3| 12/1/2010 8:45|       18|     12583|        France|\n",
      "|   536374|    21258|VICTORIAN SEWING ...|      32| 12/1/2010 9:09|    10.95|     15100|United Kingdom|\n",
      "|  C536379|        D|            Discount|      -1| 12/1/2010 9:41|     27.5|     14527|United Kingdom|\n",
      "|   536382|    22839|3 TIER CAKE TIN G...|       2| 12/1/2010 9:45|    14.95|     16098|United Kingdom|\n",
      "|   536382|    22838|3 TIER CAKE TIN R...|       2| 12/1/2010 9:45|    14.95|     16098|United Kingdom|\n",
      "|   536382|    22783|SET 3 WICKER OVAL...|       4| 12/1/2010 9:45|    16.95|     16098|United Kingdom|\n",
      "|   536384|    21340|CLASSIC METAL BIR...|       2| 12/1/2010 9:53|    12.75|     18074|United Kingdom|\n",
      "|   536384|    22424|ENAMEL BREAD BIN ...|       8| 12/1/2010 9:53|    10.95|     18074|United Kingdom|\n",
      "|   536385|    22783|SET 3 WICKER OVAL...|       1| 12/1/2010 9:56|    19.95|     17420|United Kingdom|\n",
      "|   536385|    22168|ORGANISER WOOD AN...|       2| 12/1/2010 9:56|      8.5|     17420|United Kingdom|\n",
      "|   536389|    22941|CHRISTMAS LIGHTS ...|       6|12/1/2010 10:03|      8.5|     12431|     Australia|\n",
      "|   536389|    22193|RED DINER WALL CLOCK|       2|12/1/2010 10:03|      8.5|     12431|     Australia|\n",
      "|   536389|    22192|BLUE DINER WALL C...|       2|12/1/2010 10:03|      8.5|     12431|     Australia|\n",
      "|   536389|    22191|IVORY DINER WALL ...|       2|12/1/2010 10:03|      8.5|     12431|     Australia|\n",
      "|   536390|    22941|CHRISTMAS LIGHTS ...|       2|12/1/2010 10:19|      8.5|     17511|United Kingdom|\n",
      "|   536390|    22968|ROSE COTTAGE KEEP...|       8|12/1/2010 10:19|      8.5|     17511|United Kingdom|\n",
      "|   536392|    22827|RUSTIC  SEVENTEEN...|       1|12/1/2010 10:29|      165|     13705|United Kingdom|\n",
      "|   536393|    22180|      RETROSPOT LAMP|       8|12/1/2010 10:37|     9.95|     13747|United Kingdom|\n",
      "|   536396|    22803|IVORY EMBROIDERED...|       2|12/1/2010 10:51|    35.75|     17850|United Kingdom|\n",
      "+---------+---------+--------------------+--------+---------------+---------+----------+--------------+\n",
      "only showing top 20 rows\n",
      "\n"
     ]
    }
   ],
   "source": [
    "df.filter(df['UnitPrice'] > 7.95).show()"
   ]
  },
  {
   "cell_type": "code",
   "execution_count": 47,
   "id": "bf77c6f6-b9ea-4446-a173-bcdfedcc12cb",
   "metadata": {},
   "outputs": [
    {
     "name": "stdout",
     "output_type": "stream",
     "text": [
      "+---------------+-------------+\n",
      "|        Country|num_customers|\n",
      "+---------------+-------------+\n",
      "| United Kingdom|         3950|\n",
      "|        Germany|           95|\n",
      "|         France|           87|\n",
      "|          Spain|           31|\n",
      "|        Belgium|           25|\n",
      "|    Switzerland|           21|\n",
      "|       Portugal|           19|\n",
      "|          Italy|           15|\n",
      "|        Finland|           12|\n",
      "|        Austria|           11|\n",
      "|         Norway|           10|\n",
      "|        Denmark|            9|\n",
      "|Channel Islands|            9|\n",
      "|      Australia|            9|\n",
      "|    Netherlands|            9|\n",
      "|         Sweden|            8|\n",
      "|         Cyprus|            8|\n",
      "|          Japan|            8|\n",
      "|         Poland|            6|\n",
      "|         Greece|            4|\n",
      "+---------------+-------------+\n",
      "only showing top 20 rows\n",
      "\n"
     ]
    }
   ],
   "source": [
    "from pyspark.sql.functions import *\n",
    "\n",
    "df.groupBy('Country').agg(countDistinct('CustomerID').alias('num_customers')).orderBy(desc('num_customers')).show()"
   ]
  },
  {
   "cell_type": "code",
   "execution_count": 48,
   "id": "80c4632d-e67c-450a-bf70-10e3c6f51775",
   "metadata": {},
   "outputs": [],
   "source": [
    "df.createOrReplaceTempView('invoices')"
   ]
  },
  {
   "cell_type": "code",
   "execution_count": 49,
   "id": "29680302-2da7-4d08-b23d-4577a3ff1f06",
   "metadata": {},
   "outputs": [
    {
     "name": "stdout",
     "output_type": "stream",
     "text": [
      "+---------+---------+--------------------+--------+--------------+---------+----------+--------------+\n",
      "|InvoiceNo|StockCode|         Description|Quantity|   InvoiceDate|UnitPrice|CustomerID|       Country|\n",
      "+---------+---------+--------------------+--------+--------------+---------+----------+--------------+\n",
      "|   536365|   85123A|WHITE HANGING HEA...|       6|12/1/2010 8:26|     2.55|     17850|United Kingdom|\n",
      "|   536365|    71053| WHITE METAL LANTERN|       6|12/1/2010 8:26|     3.39|     17850|United Kingdom|\n",
      "|   536365|   84406B|CREAM CUPID HEART...|       8|12/1/2010 8:26|     2.75|     17850|United Kingdom|\n",
      "|   536365|   84029G|KNITTED UNION FLA...|       6|12/1/2010 8:26|     3.39|     17850|United Kingdom|\n",
      "|   536365|   84029E|RED WOOLLY HOTTIE...|       6|12/1/2010 8:26|     3.39|     17850|United Kingdom|\n",
      "|   536365|    22752|SET 7 BABUSHKA NE...|       2|12/1/2010 8:26|     7.65|     17850|United Kingdom|\n",
      "|   536365|    21730|GLASS STAR FROSTE...|       6|12/1/2010 8:26|     4.25|     17850|United Kingdom|\n",
      "|   536366|    22633|HAND WARMER UNION...|       6|12/1/2010 8:28|     1.85|     17850|United Kingdom|\n",
      "|   536366|    22632|HAND WARMER RED P...|       6|12/1/2010 8:28|     1.85|     17850|United Kingdom|\n",
      "|   536367|    84879|ASSORTED COLOUR B...|      32|12/1/2010 8:34|     1.69|     13047|United Kingdom|\n",
      "|   536367|    22745|POPPY'S PLAYHOUSE...|       6|12/1/2010 8:34|      2.1|     13047|United Kingdom|\n",
      "|   536367|    22748|POPPY'S PLAYHOUSE...|       6|12/1/2010 8:34|      2.1|     13047|United Kingdom|\n",
      "|   536367|    22749|FELTCRAFT PRINCES...|       8|12/1/2010 8:34|     3.75|     13047|United Kingdom|\n",
      "|   536367|    22310|IVORY KNITTED MUG...|       6|12/1/2010 8:34|     1.65|     13047|United Kingdom|\n",
      "|   536367|    84969|BOX OF 6 ASSORTED...|       6|12/1/2010 8:34|     4.25|     13047|United Kingdom|\n",
      "|   536367|    22623|BOX OF VINTAGE JI...|       3|12/1/2010 8:34|     4.95|     13047|United Kingdom|\n",
      "|   536367|    22622|BOX OF VINTAGE AL...|       2|12/1/2010 8:34|     9.95|     13047|United Kingdom|\n",
      "|   536367|    21754|HOME BUILDING BLO...|       3|12/1/2010 8:34|     5.95|     13047|United Kingdom|\n",
      "|   536367|    21755|LOVE BUILDING BLO...|       3|12/1/2010 8:34|     5.95|     13047|United Kingdom|\n",
      "|   536367|    21777|RECIPE BOX WITH M...|       4|12/1/2010 8:34|     7.95|     13047|United Kingdom|\n",
      "+---------+---------+--------------------+--------+--------------+---------+----------+--------------+\n",
      "only showing top 20 rows\n",
      "\n"
     ]
    }
   ],
   "source": [
    "spark.sql('SELECT * FROM invoices').show()"
   ]
  },
  {
   "cell_type": "code",
   "execution_count": 50,
   "id": "fbcf324d-8cde-4c3e-956e-f3afa87f2b52",
   "metadata": {},
   "outputs": [
    {
     "name": "stdout",
     "output_type": "stream",
     "text": [
      "+---------------+-------------+\n",
      "|        Country|num_customers|\n",
      "+---------------+-------------+\n",
      "| United Kingdom|         3950|\n",
      "|        Germany|           95|\n",
      "|         France|           87|\n",
      "|          Spain|           31|\n",
      "|        Belgium|           25|\n",
      "|    Switzerland|           21|\n",
      "|       Portugal|           19|\n",
      "|          Italy|           15|\n",
      "|        Finland|           12|\n",
      "|        Austria|           11|\n",
      "|         Norway|           10|\n",
      "|        Denmark|            9|\n",
      "|Channel Islands|            9|\n",
      "|      Australia|            9|\n",
      "|    Netherlands|            9|\n",
      "|         Sweden|            8|\n",
      "|         Cyprus|            8|\n",
      "|          Japan|            8|\n",
      "|         Poland|            6|\n",
      "|         Greece|            4|\n",
      "+---------------+-------------+\n",
      "only showing top 20 rows\n",
      "\n"
     ]
    }
   ],
   "source": [
    "spark.sql(\n",
    "\"\"\"\n",
    "SELECT\n",
    "    Country, COUNT(DISTINCT CustomerID) as num_customers\n",
    "FROM invoices\n",
    "GROUP BY 1\n",
    "ORDER BY 2 DESC\n",
    "\"\"\"\n",
    ").show()"
   ]
  },
  {
   "cell_type": "code",
   "execution_count": 51,
   "id": "b4c847ca-998c-4d8d-8517-32be720fe343",
   "metadata": {},
   "outputs": [
    {
     "name": "stdout",
     "output_type": "stream",
     "text": [
      "+---------------+-------------+----------+----+----------+\n",
      "|        country|num_customers|row_number|rank|dense_rank|\n",
      "+---------------+-------------+----------+----+----------+\n",
      "| United Kingdom|         3950|         1|   1|         1|\n",
      "|        Germany|           95|         2|   2|         2|\n",
      "|         France|           87|         3|   3|         3|\n",
      "|          Spain|           31|         4|   4|         4|\n",
      "|        Belgium|           25|         5|   5|         5|\n",
      "|    Switzerland|           21|         6|   6|         6|\n",
      "|       Portugal|           19|         7|   7|         7|\n",
      "|          Italy|           15|         8|   8|         8|\n",
      "|        Finland|           12|         9|   9|         9|\n",
      "|        Austria|           11|        10|  10|        10|\n",
      "|         Norway|           10|        11|  11|        11|\n",
      "|        Denmark|            9|        12|  12|        12|\n",
      "|Channel Islands|            9|        13|  12|        12|\n",
      "|      Australia|            9|        14|  12|        12|\n",
      "|    Netherlands|            9|        15|  12|        12|\n",
      "|         Sweden|            8|        16|  16|        13|\n",
      "|         Cyprus|            8|        17|  16|        13|\n",
      "|          Japan|            8|        18|  16|        13|\n",
      "|         Poland|            6|        19|  19|        14|\n",
      "|         Greece|            4|        20|  20|        15|\n",
      "+---------------+-------------+----------+----+----------+\n",
      "only showing top 20 rows\n",
      "\n"
     ]
    }
   ],
   "source": [
    "spark.sql(\n",
    "\"\"\"\n",
    "WITH country_count AS (\n",
    "    SELECT\n",
    "        Country, COUNT(DISTINCT CustomerID) as num_customers\n",
    "    FROM invoices\n",
    "    GROUP BY 1\n",
    "    ORDER BY 2 DESC\n",
    ")\n",
    "\n",
    "SELECT \n",
    "    Country AS country, \n",
    "    num_customers,\n",
    "    ROW_NUMBER() OVER( ORDER BY num_customers DESC) as row_number,\n",
    "    RANK() OVER(ORDER BY num_customers DESC) as rank,\n",
    "    DENSE_RANK() OVER(ORDER BY num_customers DESC) as dense_rank\n",
    "FROM country_count\n",
    "\"\"\"\n",
    ").show()"
   ]
  },
  {
   "cell_type": "code",
   "execution_count": 52,
   "id": "ac735bca-1685-43d1-b146-0e5f4f679c94",
   "metadata": {},
   "outputs": [
    {
     "name": "stdout",
     "output_type": "stream",
     "text": [
      "+---------------+-------------+----------+----+----------+\n",
      "|        Country|num_customers|row_number|rank|dense_rank|\n",
      "+---------------+-------------+----------+----+----------+\n",
      "| United Kingdom|         3950|         1|   1|         1|\n",
      "|        Germany|           95|         2|   2|         2|\n",
      "|         France|           87|         3|   3|         3|\n",
      "|          Spain|           31|         4|   4|         4|\n",
      "|        Belgium|           25|         5|   5|         5|\n",
      "|    Switzerland|           21|         6|   6|         6|\n",
      "|       Portugal|           19|         7|   7|         7|\n",
      "|          Italy|           15|         8|   8|         8|\n",
      "|        Finland|           12|         9|   9|         9|\n",
      "|        Austria|           11|        10|  10|        10|\n",
      "|         Norway|           10|        11|  11|        11|\n",
      "|        Denmark|            9|        12|  12|        12|\n",
      "|Channel Islands|            9|        13|  12|        12|\n",
      "|      Australia|            9|        14|  12|        12|\n",
      "|    Netherlands|            9|        15|  12|        12|\n",
      "|         Sweden|            8|        16|  16|        13|\n",
      "|         Cyprus|            8|        17|  16|        13|\n",
      "|          Japan|            8|        18|  16|        13|\n",
      "|         Poland|            6|        19|  19|        14|\n",
      "|         Greece|            4|        20|  20|        15|\n",
      "+---------------+-------------+----------+----+----------+\n",
      "only showing top 20 rows\n",
      "\n"
     ]
    }
   ],
   "source": [
    "# doing the same with the functions instead of SQL\n",
    "\n",
    "\n",
    "from pyspark.sql import Window\n",
    "\n",
    "window = Window.orderBy(col(\"num_customers\").desc())\n",
    "country_customers = df.groupBy('Country').agg(countDistinct('CustomerID').alias('num_customers'))\n",
    "\n",
    "country_customers \\\n",
    ".withColumn(\"row_number\", row_number().over(window)) \\\n",
    ".withColumn(\"rank\", rank().over(window)) \\\n",
    ".withColumn(\"dense_rank\", dense_rank().over(window)) \\\n",
    ".show()"
   ]
  },
  {
   "cell_type": "code",
   "execution_count": null,
   "id": "15c8236d-62b7-438a-ad86-8f48d84af770",
   "metadata": {},
   "outputs": [],
   "source": []
  }
 ],
 "metadata": {
  "kernelspec": {
   "display_name": "Python 3 (ipykernel)",
   "language": "python",
   "name": "python3"
  },
  "language_info": {
   "codemirror_mode": {
    "name": "ipython",
    "version": 3
   },
   "file_extension": ".py",
   "mimetype": "text/x-python",
   "name": "python",
   "nbconvert_exporter": "python",
   "pygments_lexer": "ipython3",
   "version": "3.9.13"
  }
 },
 "nbformat": 4,
 "nbformat_minor": 5
}
