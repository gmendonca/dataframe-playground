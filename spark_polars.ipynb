{
 "cells": [
  {
   "cell_type": "code",
   "execution_count": 13,
   "id": "3148faa6-781c-436d-b29c-ec364e982696",
   "metadata": {},
   "outputs": [],
   "source": [
    "import polars as pl\n",
    "\n",
    "df = pl.read_csv('people.txt', \n",
    "                 separator=',', \n",
    "                 has_header=False, \n",
    "                 dtypes=[pl.Utf8, pl.Int64], \n",
    "                 new_columns=['name', 'age']\n",
    "    )"
   ]
  },
  {
   "cell_type": "code",
   "execution_count": 14,
   "id": "97ce56ad-1696-4ece-96b9-50df0fd0cfdf",
   "metadata": {},
   "outputs": [
    {
     "data": {
      "text/html": [
       "<div><style>\n",
       ".dataframe > thead > tr,\n",
       ".dataframe > tbody > tr {\n",
       "  text-align: right;\n",
       "  white-space: pre-wrap;\n",
       "}\n",
       "</style>\n",
       "<small>shape: (3, 2)</small><table border=\"1\" class=\"dataframe\"><thead><tr><th>name</th><th>age</th></tr><tr><td>str</td><td>i64</td></tr></thead><tbody><tr><td>&quot;Michael&quot;</td><td>29</td></tr><tr><td>&quot;Andy&quot;</td><td>30</td></tr><tr><td>&quot;Justin&quot;</td><td>19</td></tr></tbody></table></div>"
      ],
      "text/plain": [
       "shape: (3, 2)\n",
       "┌─────────┬─────┐\n",
       "│ name    ┆ age │\n",
       "│ ---     ┆ --- │\n",
       "│ str     ┆ i64 │\n",
       "╞═════════╪═════╡\n",
       "│ Michael ┆ 29  │\n",
       "│ Andy    ┆ 30  │\n",
       "│ Justin  ┆ 19  │\n",
       "└─────────┴─────┘"
      ]
     },
     "execution_count": 14,
     "metadata": {},
     "output_type": "execute_result"
    }
   ],
   "source": [
    "df"
   ]
  },
  {
   "cell_type": "code",
   "execution_count": 15,
   "id": "26ec3715-6207-463e-b6e6-bf94c9044547",
   "metadata": {},
   "outputs": [
    {
     "data": {
      "text/html": [
       "<div><style>\n",
       ".dataframe > thead > tr,\n",
       ".dataframe > tbody > tr {\n",
       "  text-align: right;\n",
       "  white-space: pre-wrap;\n",
       "}\n",
       "</style>\n",
       "<small>shape: (3, 1)</small><table border=\"1\" class=\"dataframe\"><thead><tr><th>name</th></tr><tr><td>str</td></tr></thead><tbody><tr><td>&quot;Michael&quot;</td></tr><tr><td>&quot;Andy&quot;</td></tr><tr><td>&quot;Justin&quot;</td></tr></tbody></table></div>"
      ],
      "text/plain": [
       "shape: (3, 1)\n",
       "┌─────────┐\n",
       "│ name    │\n",
       "│ ---     │\n",
       "│ str     │\n",
       "╞═════════╡\n",
       "│ Michael │\n",
       "│ Andy    │\n",
       "│ Justin  │\n",
       "└─────────┘"
      ]
     },
     "execution_count": 15,
     "metadata": {},
     "output_type": "execute_result"
    }
   ],
   "source": [
    "df.select(pl.col('name'))"
   ]
  },
  {
   "cell_type": "code",
   "execution_count": 17,
   "id": "40855a40-5ba6-4ec9-b738-d6264cae22b6",
   "metadata": {},
   "outputs": [
    {
     "data": {
      "text/html": [
       "<div><style>\n",
       ".dataframe > thead > tr,\n",
       ".dataframe > tbody > tr {\n",
       "  text-align: right;\n",
       "  white-space: pre-wrap;\n",
       "}\n",
       "</style>\n",
       "<small>shape: (1, 1)</small><table border=\"1\" class=\"dataframe\"><thead><tr><th>age</th></tr><tr><td>f64</td></tr></thead><tbody><tr><td>26.0</td></tr></tbody></table></div>"
      ],
      "text/plain": [
       "shape: (1, 1)\n",
       "┌──────┐\n",
       "│ age  │\n",
       "│ ---  │\n",
       "│ f64  │\n",
       "╞══════╡\n",
       "│ 26.0 │\n",
       "└──────┘"
      ]
     },
     "execution_count": 17,
     "metadata": {},
     "output_type": "execute_result"
    }
   ],
   "source": [
    "df.select(pl.mean('age'))"
   ]
  },
  {
   "cell_type": "code",
   "execution_count": 19,
   "id": "470b1bcc-5840-4125-b835-9ad9d94ba156",
   "metadata": {},
   "outputs": [
    {
     "name": "stdout",
     "output_type": "stream",
     "text": [
      "shape: (5, 5)\n",
      "┌─────────────┬─────────────────────┬─────────┬───────┬──────────┐\n",
      "│ customer_id ┆ date                ┆ product ┆ price ┆ quantity │\n",
      "│ ---         ┆ ---                 ┆ ---     ┆ ---   ┆ ---      │\n",
      "│ i64         ┆ datetime[μs]        ┆ i64     ┆ f64   ┆ i64      │\n",
      "╞═════════════╪═════════════════════╪═════════╪═══════╪══════════╡\n",
      "│ 1           ┆ 2025-01-01 00:00:00 ┆ 11825   ┆ 4.0   ┆ 1        │\n",
      "│ 2           ┆ 2025-02-02 00:00:00 ┆ 12453   ┆ 5.0   ┆ 2        │\n",
      "│ 2           ┆ 2025-03-25 00:00:00 ┆ 13245   ┆ 6.0   ┆ 10       │\n",
      "│ 3           ┆ 2025-04-03 00:00:00 ┆ 12453   ┆ 6.0   ┆ 5        │\n",
      "│ 1           ┆ 2025-04-03 00:00:00 ┆ 10789   ┆ 5.5   ┆ 7        │\n",
      "└─────────────┴─────────────────────┴─────────┴───────┴──────────┘\n"
     ]
    }
   ],
   "source": [
    "from datetime import datetime\n",
    "\n",
    "purchases = pl.DataFrame(\n",
    "    {\n",
    "        \"customer_id\": [1, 2, 2, 3, 1],\n",
    "        \"date\": [\n",
    "            datetime(2025, 1, 1),\n",
    "            datetime(2025, 2, 2),\n",
    "            datetime(2025, 3, 25),\n",
    "            datetime(2025, 4, 3),\n",
    "            datetime(2025, 4, 3)\n",
    "        ],\n",
    "        \"product\": [11825, 12453, 13245, 12453, 10789],\n",
    "        \"price\": [4.0, 5.0, 6.0, 6.0, 5.5],\n",
    "        \"quantity\": [1, 2, 10, 5, 7],\n",
    "    }\n",
    ")\n",
    "\n",
    "print(purchases)"
   ]
  },
  {
   "cell_type": "code",
   "execution_count": 34,
   "id": "7017cbbf-1dc4-497d-9274-ce24e4a94886",
   "metadata": {},
   "outputs": [],
   "source": [
    "customers = df.with_columns(pl.lit(0).alias('customer_id')).with_columns(pl.col('customer_id').cum_count().cast(pl.Int64))"
   ]
  },
  {
   "cell_type": "code",
   "execution_count": 35,
   "id": "4fd43b05-ae4a-4be9-a2f9-06e05a29af43",
   "metadata": {},
   "outputs": [
    {
     "name": "stdout",
     "output_type": "stream",
     "text": [
      "shape: (3, 3)\n",
      "┌─────────┬─────┬─────────────┐\n",
      "│ name    ┆ age ┆ customer_id │\n",
      "│ ---     ┆ --- ┆ ---         │\n",
      "│ str     ┆ i64 ┆ i64         │\n",
      "╞═════════╪═════╪═════════════╡\n",
      "│ Michael ┆ 29  ┆ 1           │\n",
      "│ Andy    ┆ 30  ┆ 2           │\n",
      "│ Justin  ┆ 19  ┆ 3           │\n",
      "└─────────┴─────┴─────────────┘\n"
     ]
    }
   ],
   "source": [
    "print(customers)"
   ]
  },
  {
   "cell_type": "code",
   "execution_count": 36,
   "id": "3b4d4d6f-fb44-437a-b1bf-ddcc9480f632",
   "metadata": {},
   "outputs": [],
   "source": [
    "joined = customers.join(purchases, left_on='customer_id', right_on='customer_id')"
   ]
  },
  {
   "cell_type": "code",
   "execution_count": 37,
   "id": "66848e36-e483-4d1f-a351-7861f88c93c4",
   "metadata": {},
   "outputs": [
    {
     "name": "stdout",
     "output_type": "stream",
     "text": [
      "shape: (5, 7)\n",
      "┌─────────┬─────┬─────────────┬─────────────────────┬─────────┬───────┬──────────┐\n",
      "│ name    ┆ age ┆ customer_id ┆ date                ┆ product ┆ price ┆ quantity │\n",
      "│ ---     ┆ --- ┆ ---         ┆ ---                 ┆ ---     ┆ ---   ┆ ---      │\n",
      "│ str     ┆ i64 ┆ i64         ┆ datetime[μs]        ┆ i64     ┆ f64   ┆ i64      │\n",
      "╞═════════╪═════╪═════════════╪═════════════════════╪═════════╪═══════╪══════════╡\n",
      "│ Michael ┆ 29  ┆ 1           ┆ 2025-01-01 00:00:00 ┆ 11825   ┆ 4.0   ┆ 1        │\n",
      "│ Andy    ┆ 30  ┆ 2           ┆ 2025-02-02 00:00:00 ┆ 12453   ┆ 5.0   ┆ 2        │\n",
      "│ Andy    ┆ 30  ┆ 2           ┆ 2025-03-25 00:00:00 ┆ 13245   ┆ 6.0   ┆ 10       │\n",
      "│ Justin  ┆ 19  ┆ 3           ┆ 2025-04-03 00:00:00 ┆ 12453   ┆ 6.0   ┆ 5        │\n",
      "│ Michael ┆ 29  ┆ 1           ┆ 2025-04-03 00:00:00 ┆ 10789   ┆ 5.5   ┆ 7        │\n",
      "└─────────┴─────┴─────────────┴─────────────────────┴─────────┴───────┴──────────┘\n"
     ]
    }
   ],
   "source": [
    "print(joined)"
   ]
  },
  {
   "cell_type": "code",
   "execution_count": 48,
   "id": "13771e51-2801-4dd5-9025-494e9b102a52",
   "metadata": {},
   "outputs": [
    {
     "data": {
      "text/html": [
       "<div><style>\n",
       ".dataframe > thead > tr,\n",
       ".dataframe > tbody > tr {\n",
       "  text-align: right;\n",
       "  white-space: pre-wrap;\n",
       "}\n",
       "</style>\n",
       "<small>shape: (1, 2)</small><table border=\"1\" class=\"dataframe\"><thead><tr><th>date</th><th>price</th></tr><tr><td>i32</td><td>f64</td></tr></thead><tbody><tr><td>2025</td><td>142.5</td></tr></tbody></table></div>"
      ],
      "text/plain": [
       "shape: (1, 2)\n",
       "┌──────┬───────┐\n",
       "│ date ┆ price │\n",
       "│ ---  ┆ ---   │\n",
       "│ i32  ┆ f64   │\n",
       "╞══════╪═══════╡\n",
       "│ 2025 ┆ 142.5 │\n",
       "└──────┴───────┘"
      ]
     },
     "execution_count": 48,
     "metadata": {},
     "output_type": "execute_result"
    }
   ],
   "source": [
    "joined \\\n",
    "    .select(pl.col('date').dt.year(), pl.col('price') * pl.col('quantity')) \\\n",
    "    .group_by(pl.col('date')).sum()"
   ]
  },
  {
   "cell_type": "code",
   "execution_count": null,
   "id": "aeb5c614-3cbe-43a0-b34f-334139083eff",
   "metadata": {},
   "outputs": [],
   "source": []
  }
 ],
 "metadata": {
  "kernelspec": {
   "display_name": "Python 3 (ipykernel)",
   "language": "python",
   "name": "python3"
  },
  "language_info": {
   "codemirror_mode": {
    "name": "ipython",
    "version": 3
   },
   "file_extension": ".py",
   "mimetype": "text/x-python",
   "name": "python",
   "nbconvert_exporter": "python",
   "pygments_lexer": "ipython3",
   "version": "3.9.13"
  }
 },
 "nbformat": 4,
 "nbformat_minor": 5
}
